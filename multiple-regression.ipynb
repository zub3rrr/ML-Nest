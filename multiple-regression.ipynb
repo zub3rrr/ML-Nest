{
 "cells": [
  {
   "cell_type": "code",
   "execution_count": 1,
   "id": "1fb65f72",
   "metadata": {
    "_cell_guid": "b1076dfc-b9ad-4769-8c92-a6c4dae69d19",
    "_uuid": "8f2839f25d086af736a60e9eeb907d3b93b6e0e5",
    "execution": {
     "iopub.execute_input": "2025-07-26T08:15:57.213566Z",
     "iopub.status.busy": "2025-07-26T08:15:57.213100Z",
     "iopub.status.idle": "2025-07-26T08:15:57.225250Z",
     "shell.execute_reply": "2025-07-26T08:15:57.224288Z"
    },
    "papermill": {
     "duration": 0.018469,
     "end_time": "2025-07-26T08:15:57.227415",
     "exception": false,
     "start_time": "2025-07-26T08:15:57.208946",
     "status": "completed"
    },
    "tags": []
   },
   "outputs": [],
   "source": [
    "class za_mlr:\n",
    "    \"\"\" Class to create Multiple Regression\"\"\"\n",
    "    def __init__(self):\n",
    "        self.coef_ = None\n",
    "        self.intercept_ = None\n",
    "        \n",
    "    def fit(self,X_train,y_train):\n",
    "        X_train = np.insert(X_train,0,1,axis=1)\n",
    "        \n",
    "        # calcuate the coeffs\n",
    "        betas = np.linalg.inv(np.dot(X_train.T,X_train)).dot(X_train.T).dot(y_train)\n",
    "        self.intercept_ = betas[0]\n",
    "        self.coef_ = betas[1:]\n",
    "    \n",
    "    def predict(self,X_test):\n",
    "        y_pred = np.dot(X_test,self.coef_) + self.intercept_\n",
    "        return y_pred\n",
    "        "
   ]
  }
 ],
 "metadata": {
  "kaggle": {
   "accelerator": "none",
   "dataSources": [],
   "dockerImageVersionId": 31089,
   "isGpuEnabled": false,
   "isInternetEnabled": true,
   "language": "python",
   "sourceType": "notebook"
  },
  "kernelspec": {
   "display_name": "Python 3",
   "language": "python",
   "name": "python3"
  },
  "language_info": {
   "codemirror_mode": {
    "name": "ipython",
    "version": 3
   },
   "file_extension": ".py",
   "mimetype": "text/x-python",
   "name": "python",
   "nbconvert_exporter": "python",
   "pygments_lexer": "ipython3",
   "version": "3.11.13"
  },
  "papermill": {
   "default_parameters": {},
   "duration": 6.237336,
   "end_time": "2025-07-26T08:15:57.851270",
   "environment_variables": {},
   "exception": null,
   "input_path": "__notebook__.ipynb",
   "output_path": "__notebook__.ipynb",
   "parameters": {},
   "start_time": "2025-07-26T08:15:51.613934",
   "version": "2.6.0"
  }
 },
 "nbformat": 4,
 "nbformat_minor": 5
}
