{
 "cells": [
  {
   "cell_type": "markdown",
   "id": "b2021d37",
   "metadata": {
    "papermill": {
     "duration": 0.004524,
     "end_time": "2025-07-24T17:18:16.467497",
     "exception": false,
     "start_time": "2025-07-24T17:18:16.462973",
     "status": "completed"
    },
    "tags": []
   },
   "source": [
    "### Simple Linear Regression: OLS - Sklear Linear Regression if SGDR then Gradient Descent\n",
    "\n",
    "Simple Linear Regression models the relationship between two variables using a straight line.\n",
    "\n",
    "**Slope ($m$):** The rate of change of $y$ with respect to $x$.\n",
    "\n",
    "**Y-Intercept ($b$):** The value of $y$ when $x = 0$.\n",
    "\n",
    "#### Formula\n",
    "\n",
    "$$\n",
    "y = m x + b\n",
    "$$\n",
    "\n",
    "- The **slope** shows how much $y$ changes for every unit increase in $x$ i.e. proportationality.\n",
    "- The **y-intercept** is where the line crosses the y-axis offset , experience with 0 cannot have 0 LPA.\n"
   ]
  },
  {
   "cell_type": "code",
   "execution_count": 1,
   "id": "3656edd1",
   "metadata": {
    "_cell_guid": "b1076dfc-b9ad-4769-8c92-a6c4dae69d19",
    "_uuid": "8f2839f25d086af736a60e9eeb907d3b93b6e0e5",
    "execution": {
     "iopub.execute_input": "2025-07-24T17:18:16.476875Z",
     "iopub.status.busy": "2025-07-24T17:18:16.476095Z",
     "iopub.status.idle": "2025-07-24T17:18:20.911679Z",
     "shell.execute_reply": "2025-07-24T17:18:20.910794Z"
    },
    "papermill": {
     "duration": 4.442001,
     "end_time": "2025-07-24T17:18:20.913427",
     "exception": false,
     "start_time": "2025-07-24T17:18:16.471426",
     "status": "completed"
    },
    "tags": []
   },
   "outputs": [],
   "source": [
    "import matplotlib.pyplot as plt\n",
    "import pandas as pd\n",
    "import numpy as np\n",
    "import matplotlib.pyplot as plt\n",
    "import seaborn as sns\n",
    "from sklearn.model_selection import train_test_split\n",
    "from sklearn.linear_model import LinearRegression\n",
    "import warnings\n",
    "warnings.filterwarnings(\"ignore\")"
   ]
  },
  {
   "cell_type": "code",
   "execution_count": 2,
   "id": "6b442a6c",
   "metadata": {
    "execution": {
     "iopub.execute_input": "2025-07-24T17:18:20.922628Z",
     "iopub.status.busy": "2025-07-24T17:18:20.922183Z",
     "iopub.status.idle": "2025-07-24T17:18:20.943121Z",
     "shell.execute_reply": "2025-07-24T17:18:20.942196Z"
    },
    "papermill": {
     "duration": 0.027099,
     "end_time": "2025-07-24T17:18:20.944655",
     "exception": false,
     "start_time": "2025-07-24T17:18:20.917556",
     "status": "completed"
    },
    "tags": []
   },
   "outputs": [],
   "source": [
    "df=pd.read_csv('/kaggle/input/cgpa-vs-package-in-lpa/placement.csv')"
   ]
  },
  {
   "cell_type": "code",
   "execution_count": 3,
   "id": "81fd8f17",
   "metadata": {
    "execution": {
     "iopub.execute_input": "2025-07-24T17:18:20.953592Z",
     "iopub.status.busy": "2025-07-24T17:18:20.953273Z",
     "iopub.status.idle": "2025-07-24T17:18:20.977876Z",
     "shell.execute_reply": "2025-07-24T17:18:20.977000Z"
    },
    "papermill": {
     "duration": 0.030869,
     "end_time": "2025-07-24T17:18:20.979427",
     "exception": false,
     "start_time": "2025-07-24T17:18:20.948558",
     "status": "completed"
    },
    "tags": []
   },
   "outputs": [
    {
     "data": {
      "text/html": [
       "<div>\n",
       "<style scoped>\n",
       "    .dataframe tbody tr th:only-of-type {\n",
       "        vertical-align: middle;\n",
       "    }\n",
       "\n",
       "    .dataframe tbody tr th {\n",
       "        vertical-align: top;\n",
       "    }\n",
       "\n",
       "    .dataframe thead th {\n",
       "        text-align: right;\n",
       "    }\n",
       "</style>\n",
       "<table border=\"1\" class=\"dataframe\">\n",
       "  <thead>\n",
       "    <tr style=\"text-align: right;\">\n",
       "      <th></th>\n",
       "      <th>cgpa</th>\n",
       "      <th>package</th>\n",
       "    </tr>\n",
       "  </thead>\n",
       "  <tbody>\n",
       "    <tr>\n",
       "      <th>0</th>\n",
       "      <td>6.89</td>\n",
       "      <td>3.26</td>\n",
       "    </tr>\n",
       "    <tr>\n",
       "      <th>1</th>\n",
       "      <td>5.12</td>\n",
       "      <td>1.98</td>\n",
       "    </tr>\n",
       "    <tr>\n",
       "      <th>2</th>\n",
       "      <td>7.82</td>\n",
       "      <td>3.25</td>\n",
       "    </tr>\n",
       "    <tr>\n",
       "      <th>3</th>\n",
       "      <td>7.42</td>\n",
       "      <td>3.67</td>\n",
       "    </tr>\n",
       "    <tr>\n",
       "      <th>4</th>\n",
       "      <td>6.94</td>\n",
       "      <td>3.57</td>\n",
       "    </tr>\n",
       "  </tbody>\n",
       "</table>\n",
       "</div>"
      ],
      "text/plain": [
       "   cgpa  package\n",
       "0  6.89     3.26\n",
       "1  5.12     1.98\n",
       "2  7.82     3.25\n",
       "3  7.42     3.67\n",
       "4  6.94     3.57"
      ]
     },
     "execution_count": 3,
     "metadata": {},
     "output_type": "execute_result"
    }
   ],
   "source": [
    "df.head()"
   ]
  },
  {
   "cell_type": "code",
   "execution_count": 4,
   "id": "4421d5b1",
   "metadata": {
    "execution": {
     "iopub.execute_input": "2025-07-24T17:18:20.988790Z",
     "iopub.status.busy": "2025-07-24T17:18:20.988470Z",
     "iopub.status.idle": "2025-07-24T17:18:21.302989Z",
     "shell.execute_reply": "2025-07-24T17:18:21.302077Z"
    },
    "papermill": {
     "duration": 0.321042,
     "end_time": "2025-07-24T17:18:21.304515",
     "exception": false,
     "start_time": "2025-07-24T17:18:20.983473",
     "status": "completed"
    },
    "tags": []
   },
   "outputs": [
    {
     "data": {
      "image/png": "[encoded data removed]",
      "text/plain": [
       "<Figure size 640x480 with 1 Axes>"
      ]
     },
     "metadata": {},
     "output_type": "display_data"
    }
   ],
   "source": [
    "sns.scatterplot(df,x='cgpa',y='package')\n",
    "plt.title('Linear Regression Plot')\n",
    "plt.xlabel('CGPA')\n",
    "plt.ylabel('Package')\n",
    "plt.show()"
   ]
  },
  {
   "cell_type": "code",
   "execution_count": 5,
   "id": "ab81ae1d",
   "metadata": {
    "execution": {
     "iopub.execute_input": "2025-07-24T17:18:21.314950Z",
     "iopub.status.busy": "2025-07-24T17:18:21.314592Z",
     "iopub.status.idle": "2025-07-24T17:18:21.319618Z",
     "shell.execute_reply": "2025-07-24T17:18:21.318790Z"
    },
    "papermill": {
     "duration": 0.012182,
     "end_time": "2025-07-24T17:18:21.321347",
     "exception": false,
     "start_time": "2025-07-24T17:18:21.309165",
     "status": "completed"
    },
    "tags": []
   },
   "outputs": [],
   "source": [
    "x=df.iloc[:,0:1]\n",
    "y=df.iloc[:,-1:]"
   ]
  },
  {
   "cell_type": "code",
   "execution_count": 6,
   "id": "00512d7b",
   "metadata": {
    "execution": {
     "iopub.execute_input": "2025-07-24T17:18:21.331854Z",
     "iopub.status.busy": "2025-07-24T17:18:21.331549Z",
     "iopub.status.idle": "2025-07-24T17:18:21.339908Z",
     "shell.execute_reply": "2025-07-24T17:18:21.338994Z"
    },
    "papermill": {
     "duration": 0.015549,
     "end_time": "2025-07-24T17:18:21.341416",
     "exception": false,
     "start_time": "2025-07-24T17:18:21.325867",
     "status": "completed"
    },
    "tags": []
   },
   "outputs": [],
   "source": [
    "x_train , x_test ,y_train,y_test = train_test_split(x,y,test_size=0.2,random_state=2)"
   ]
  },
  {
   "cell_type": "code",
   "execution_count": 7,
   "id": "3ffa60f7",
   "metadata": {
    "execution": {
     "iopub.execute_input": "2025-07-24T17:18:21.351843Z",
     "iopub.status.busy": "2025-07-24T17:18:21.351510Z",
     "iopub.status.idle": "2025-07-24T17:18:21.357792Z",
     "shell.execute_reply": "2025-07-24T17:18:21.356945Z"
    },
    "papermill": {
     "duration": 0.013355,
     "end_time": "2025-07-24T17:18:21.359331",
     "exception": false,
     "start_time": "2025-07-24T17:18:21.345976",
     "status": "completed"
    },
    "tags": []
   },
   "outputs": [
    {
     "data": {
      "text/plain": [
       "((160, 1), (40, 1), (160, 1), (40, 1))"
      ]
     },
     "execution_count": 7,
     "metadata": {},
     "output_type": "execute_result"
    }
   ],
   "source": [
    "x_train.shape ,x_test.shape ,y_train.shape ,y_test.shape"
   ]
  },
  {
   "cell_type": "code",
   "execution_count": 8,
   "id": "24d1a25d",
   "metadata": {
    "execution": {
     "iopub.execute_input": "2025-07-24T17:18:21.370914Z",
     "iopub.status.busy": "2025-07-24T17:18:21.370594Z",
     "iopub.status.idle": "2025-07-24T17:18:21.374812Z",
     "shell.execute_reply": "2025-07-24T17:18:21.373942Z"
    },
    "papermill": {
     "duration": 0.011169,
     "end_time": "2025-07-24T17:18:21.376375",
     "exception": false,
     "start_time": "2025-07-24T17:18:21.365206",
     "status": "completed"
    },
    "tags": []
   },
   "outputs": [],
   "source": [
    "LR = LinearRegression()"
   ]
  },
  {
   "cell_type": "code",
   "execution_count": 9,
   "id": "55b0188a",
   "metadata": {
    "execution": {
     "iopub.execute_input": "2025-07-24T17:18:21.386761Z",
     "iopub.status.busy": "2025-07-24T17:18:21.386453Z",
     "iopub.status.idle": "2025-07-24T17:18:21.424057Z",
     "shell.execute_reply": "2025-07-24T17:18:21.423108Z"
    },
    "papermill": {
     "duration": 0.044596,
     "end_time": "2025-07-24T17:18:21.425590",
     "exception": false,
     "start_time": "2025-07-24T17:18:21.380994",
     "status": "completed"
    },
    "tags": []
   },
   "outputs": [
    {
     "data": {
      "text/html": [
       "<style>#sk-container-id-1 {color: black;background-color: white;}#sk-container-id-1 pre{padding: 0;}#sk-container-id-1 div.sk-toggleable {background-color: white;}#sk-container-id-1 label.sk-toggleable__label {cursor: pointer;display: block;width: 100%;margin-bottom: 0;padding: 0.3em;box-sizing: border-box;text-align: center;}#sk-container-id-1 label.sk-toggleable__label-arrow:before {content: \"▸\";float: left;margin-right: 0.25em;color: #696969;}#sk-container-id-1 label.sk-toggleable__label-arrow:hover:before {color: black;}#sk-container-id-1 div.sk-estimator:hover label.sk-toggleable__label-arrow:before {color: black;}#sk-container-id-1 div.sk-toggleable__content {max-height: 0;max-width: 0;overflow: hidden;text-align: left;background-color: #f0f8ff;}#sk-container-id-1 div.sk-toggleable__content pre {margin: 0.2em;color: black;border-radius: 0.25em;background-color: #f0f8ff;}#sk-container-id-1 input.sk-toggleable__control:checked~div.sk-toggleable__content {max-height: 200px;max-width: 100%;overflow: auto;}#sk-container-id-1 input.sk-toggleable__control:checked~label.sk-toggleable__label-arrow:before {content: \"▾\";}#sk-container-id-1 div.sk-estimator input.sk-toggleable__control:checked~label.sk-toggleable__label {background-color: #d4ebff;}#sk-container-id-1 div.sk-label input.sk-toggleable__control:checked~label.sk-toggleable__label {background-color: #d4ebff;}#sk-container-id-1 input.sk-hidden--visually {border: 0;clip: rect(1px 1px 1px 1px);clip: rect(1px, 1px, 1px, 1px);height: 1px;margin: -1px;overflow: hidden;padding: 0;position: absolute;width: 1px;}#sk-container-id-1 div.sk-estimator {font-family: monospace;background-color: #f0f8ff;border: 1px dotted black;border-radius: 0.25em;box-sizing: border-box;margin-bottom: 0.5em;}#sk-container-id-1 div.sk-estimator:hover {background-color: #d4ebff;}#sk-container-id-1 div.sk-parallel-item::after {content: \"\";width: 100%;border-bottom: 1px solid gray;flex-grow: 1;}#sk-container-id-1 div.sk-label:hover label.sk-toggleable__label {background-color: #d4ebff;}#sk-container-id-1 div.sk-serial::before {content: \"\";position: absolute;border-left: 1px solid gray;box-sizing: border-box;top: 0;bottom: 0;left: 50%;z-index: 0;}#sk-container-id-1 div.sk-serial {display: flex;flex-direction: column;align-items: center;background-color: white;padding-right: 0.2em;padding-left: 0.2em;position: relative;}#sk-container-id-1 div.sk-item {position: relative;z-index: 1;}#sk-container-id-1 div.sk-parallel {display: flex;align-items: stretch;justify-content: center;background-color: white;position: relative;}#sk-container-id-1 div.sk-item::before, #sk-container-id-1 div.sk-parallel-item::before {content: \"\";position: absolute;border-left: 1px solid gray;box-sizing: border-box;top: 0;bottom: 0;left: 50%;z-index: -1;}#sk-container-id-1 div.sk-parallel-item {display: flex;flex-direction: column;z-index: 1;position: relative;background-color: white;}#sk-container-id-1 div.sk-parallel-item:first-child::after {align-self: flex-end;width: 50%;}#sk-container-id-1 div.sk-parallel-item:last-child::after {align-self: flex-start;width: 50%;}#sk-container-id-1 div.sk-parallel-item:only-child::after {width: 0;}#sk-container-id-1 div.sk-dashed-wrapped {border: 1px dashed gray;margin: 0 0.4em 0.5em 0.4em;box-sizing: border-box;padding-bottom: 0.4em;background-color: white;}#sk-container-id-1 div.sk-label label {font-family: monospace;font-weight: bold;display: inline-block;line-height: 1.2em;}#sk-container-id-1 div.sk-label-container {text-align: center;}#sk-container-id-1 div.sk-container {/* jupyter's `normalize.less` sets `[hidden] { display: none; }` but bootstrap.min.css set `[hidden] { display: none !important; }` so we also need the `!important` here to be able to override the default hidden behavior on the sphinx rendered scikit-learn.org. See: https://github.com/scikit-learn/scikit-learn/issues/21755 */display: inline-block !important;position: relative;}#sk-container-id-1 div.sk-text-repr-fallback {display: none;}</style><div id=\"sk-container-id-1\" class=\"sk-top-container\"><div class=\"sk-text-repr-fallback\"><pre>LinearRegression()</pre><b>In a Jupyter environment, please rerun this cell to show the HTML representation or trust the notebook. <br />On GitHub, the HTML representation is unable to render, please try loading this page with nbviewer.org.</b></div><div class=\"sk-container\" hidden><div class=\"sk-item\"><div class=\"sk-estimator sk-toggleable\"><input class=\"sk-toggleable__control sk-hidden--visually\" id=\"sk-estimator-id-1\" type=\"checkbox\" checked><label for=\"sk-estimator-id-1\" class=\"sk-toggleable__label sk-toggleable__label-arrow\">LinearRegression</label><div class=\"sk-toggleable__content\"><pre>LinearRegression()</pre></div></div></div></div></div>"
      ],
      "text/plain": [
       "LinearRegression()"
      ]
     },
     "execution_count": 9,
     "metadata": {},
     "output_type": "execute_result"
    }
   ],
   "source": [
    "LR.fit(x_train,y_train)"
   ]
  },
  {
   "cell_type": "code",
   "execution_count": 10,
   "id": "e6dc1ffb",
   "metadata": {
    "execution": {
     "iopub.execute_input": "2025-07-24T17:18:21.436574Z",
     "iopub.status.busy": "2025-07-24T17:18:21.436254Z",
     "iopub.status.idle": "2025-07-24T17:18:21.442986Z",
     "shell.execute_reply": "2025-07-24T17:18:21.442238Z"
    },
    "papermill": {
     "duration": 0.013886,
     "end_time": "2025-07-24T17:18:21.444412",
     "exception": false,
     "start_time": "2025-07-24T17:18:21.430526",
     "status": "completed"
    },
    "tags": []
   },
   "outputs": [
    {
     "data": {
      "text/plain": [
       "array([[3.89111601]])"
      ]
     },
     "execution_count": 10,
     "metadata": {},
     "output_type": "execute_result"
    }
   ],
   "source": [
    "LR.predict(x_test.iloc[0].values.reshape(1,1))"
   ]
  },
  {
   "cell_type": "code",
   "execution_count": 11,
   "id": "bcc915c6",
   "metadata": {
    "execution": {
     "iopub.execute_input": "2025-07-24T17:18:21.455550Z",
     "iopub.status.busy": "2025-07-24T17:18:21.455233Z",
     "iopub.status.idle": "2025-07-24T17:18:21.648404Z",
     "shell.execute_reply": "2025-07-24T17:18:21.647364Z"
    },
    "papermill": {
     "duration": 0.200796,
     "end_time": "2025-07-24T17:18:21.650123",
     "exception": false,
     "start_time": "2025-07-24T17:18:21.449327",
     "status": "completed"
    },
    "tags": []
   },
   "outputs": [
    {
     "data": {
      "image/png": "[encoded data removed]",
      "text/plain": [
       "<Figure size 640x480 with 1 Axes>"
      ]
     },
     "metadata": {},
     "output_type": "display_data"
    }
   ],
   "source": [
    "sns.scatterplot(df,x='cgpa',y='package')\n",
    "plt.plot(x_train,LR.predict(x_train),color='red')\n",
    "plt.title('Linear Regression Plot')\n",
    "plt.xlabel('CGPA')\n",
    "plt.ylabel('Package')\n",
    "plt.show()"
   ]
  },
  {
   "cell_type": "code",
   "execution_count": 12,
   "id": "7ebf6366",
   "metadata": {
    "execution": {
     "iopub.execute_input": "2025-07-24T17:18:21.662381Z",
     "iopub.status.busy": "2025-07-24T17:18:21.662048Z",
     "iopub.status.idle": "2025-07-24T17:18:21.667939Z",
     "shell.execute_reply": "2025-07-24T17:18:21.666937Z"
    },
    "papermill": {
     "duration": 0.013993,
     "end_time": "2025-07-24T17:18:21.669707",
     "exception": false,
     "start_time": "2025-07-24T17:18:21.655714",
     "status": "completed"
    },
    "tags": []
   },
   "outputs": [
    {
     "name": "stdout",
     "output_type": "stream",
     "text": [
      "Coeeficient of the best fit line is [[0.55795197]] and y-intercept is [-0.89611192]\n"
     ]
    }
   ],
   "source": [
    "print(f\"Coeeficient of the best fit line is {LR.coef_} and y-intercept is {LR.intercept_}\")"
   ]
  },
  {
   "cell_type": "markdown",
   "id": "cb67826c",
   "metadata": {
    "papermill": {
     "duration": 0.005167,
     "end_time": "2025-07-24T17:18:21.680634",
     "exception": false,
     "start_time": "2025-07-24T17:18:21.675467",
     "status": "completed"
    },
    "tags": []
   },
   "source": [
    "### Derivation of Slope ($m$) and Y-Intercept ($b$) in Simple Linear Regression\n",
    "\n",
    "In Simple Linear Regression using the Ordinary Least Squares (OLS) method, the parameters **slope ($m$)** and **y-intercept ($b$)** are calculated from the data points $(x_i, y_i)$ as follows:\n",
    "\n",
    "#### 1. Slope ($m$)\n",
    "\n",
    "$$\n",
    "m = \\frac{\\sum_{i=1}^{n} (x_i - \\bar{x}) (y_i - \\bar{y})}{\\sum_{i=1}^{n} (x_i - \\bar{x})^2}\n",
    "$$\n",
    "\n",
    "- $x_i$, $y_i$ : Individual data points\n",
    "- $\\bar{x}$ : Mean of $x$\n",
    "- $\\bar{y}$ : Mean of $y$\n",
    "\n",
    "#### 2. Y-Intercept ($b$)\n",
    "\n",
    "$$\n",
    "b = \\bar{y} - m\\bar{x}\n",
    "$$\n",
    "\n",
    "where:\n",
    "- $m$: Slope (from above)\n",
    "- $\\bar{x}$: Mean of $x$\n",
    "- $\\bar{y}$: Mean of $y$\n",
    "\n",
    "---\n",
    "\n",
    "**Summary Table:**\n",
    "\n",
    "| Parameter    | Formula                                                                            |\n",
    "|--------------|------------------------------------------------------------------------------------|\n",
    "| Slope ($m$)  | $\\displaystyle m = \\frac{\\sum (x_i - \\bar{x})(y_i - \\bar{y})}{\\sum (x_i - \\bar{x})^2}$ |\n",
    "| Y-Intercept ($b$) | $b = \\bar{y} - m\\bar{x}$                                                          |\n",
    "\n",
    "These formulas find the best-fit line $y = m x + b$ that minimizes the squared differences between actual and predicted $y$ values.\n"
   ]
  },
  {
   "cell_type": "markdown",
   "id": "20d6eadf",
   "metadata": {
    "papermill": {
     "duration": 0.005101,
     "end_time": "2025-07-24T17:18:21.691323",
     "exception": false,
     "start_time": "2025-07-24T17:18:21.686222",
     "status": "completed"
    },
    "tags": []
   },
   "source": [
    "# Therefore we will try to derive our own Simple Linear Regression"
   ]
  },
  {
   "cell_type": "code",
   "execution_count": 13,
   "id": "855bf1aa",
   "metadata": {
    "execution": {
     "iopub.execute_input": "2025-07-24T17:18:21.703894Z",
     "iopub.status.busy": "2025-07-24T17:18:21.702986Z",
     "iopub.status.idle": "2025-07-24T17:18:21.710225Z",
     "shell.execute_reply": "2025-07-24T17:18:21.709451Z"
    },
    "papermill": {
     "duration": 0.014991,
     "end_time": "2025-07-24T17:18:21.711656",
     "exception": false,
     "start_time": "2025-07-24T17:18:21.696665",
     "status": "completed"
    },
    "tags": []
   },
   "outputs": [],
   "source": [
    "class za_slr:\n",
    "    def __init__(self):\n",
    "        self.m = None\n",
    "        self.b = None\n",
    "        \n",
    "    def fit(self,X_train,y_train):\n",
    "        try:\n",
    "            num = 0\n",
    "            den = 0\n",
    "            X_train = X_train.values\n",
    "            y_train = y_train.values\n",
    "            for i in range(X_train.shape[0]):\n",
    "                num += (X_train[i]-X_train.mean())*(y_train[i]-y_train.mean())\n",
    "                den += (X_train[i]-X_train.mean())**2\n",
    "                self.m = num/den\n",
    "                self.b = (y_train.mean()) - (self.m * X_train.mean())\n",
    "                \n",
    "        except Exception as e:\n",
    "            print(e)\n",
    "                \n",
    "    def predict(self,X_test):\n",
    "        try:\n",
    "            return self.m * X_test + self.b\n",
    "        except Exception as e:\n",
    "            raise ValueError\n",
    "    def get_param(self):\n",
    "        print(f\"The coefficient of slope is {self.m} & y-intercept is {self.b}\")"
   ]
  },
  {
   "cell_type": "code",
   "execution_count": 14,
   "id": "6eec9048",
   "metadata": {
    "execution": {
     "iopub.execute_input": "2025-07-24T17:18:21.724597Z",
     "iopub.status.busy": "2025-07-24T17:18:21.723726Z",
     "iopub.status.idle": "2025-07-24T17:18:21.727888Z",
     "shell.execute_reply": "2025-07-24T17:18:21.727110Z"
    },
    "papermill": {
     "duration": 0.012099,
     "end_time": "2025-07-24T17:18:21.729311",
     "exception": false,
     "start_time": "2025-07-24T17:18:21.717212",
     "status": "completed"
    },
    "tags": []
   },
   "outputs": [],
   "source": [
    "self_lr = za_slr()"
   ]
  },
  {
   "cell_type": "code",
   "execution_count": 15,
   "id": "b594b056",
   "metadata": {
    "execution": {
     "iopub.execute_input": "2025-07-24T17:18:21.741165Z",
     "iopub.status.busy": "2025-07-24T17:18:21.740826Z",
     "iopub.status.idle": "2025-07-24T17:18:21.752912Z",
     "shell.execute_reply": "2025-07-24T17:18:21.752044Z"
    },
    "papermill": {
     "duration": 0.019708,
     "end_time": "2025-07-24T17:18:21.754408",
     "exception": false,
     "start_time": "2025-07-24T17:18:21.734700",
     "status": "completed"
    },
    "tags": []
   },
   "outputs": [],
   "source": [
    "self_lr.fit(x_train,y_train)"
   ]
  },
  {
   "cell_type": "code",
   "execution_count": 16,
   "id": "a5310589",
   "metadata": {
    "execution": {
     "iopub.execute_input": "2025-07-24T17:18:21.767438Z",
     "iopub.status.busy": "2025-07-24T17:18:21.766618Z",
     "iopub.status.idle": "2025-07-24T17:18:21.773652Z",
     "shell.execute_reply": "2025-07-24T17:18:21.772726Z"
    },
    "papermill": {
     "duration": 0.015225,
     "end_time": "2025-07-24T17:18:21.775229",
     "exception": false,
     "start_time": "2025-07-24T17:18:21.760004",
     "status": "completed"
    },
    "tags": []
   },
   "outputs": [
    {
     "data": {
      "text/plain": [
       "array([[3.89111601]])"
      ]
     },
     "execution_count": 16,
     "metadata": {},
     "output_type": "execute_result"
    }
   ],
   "source": [
    "self_lr.predict(x_test.iloc[0].values.reshape(1,1))"
   ]
  },
  {
   "cell_type": "code",
   "execution_count": 17,
   "id": "6b586193",
   "metadata": {
    "execution": {
     "iopub.execute_input": "2025-07-24T17:18:21.787876Z",
     "iopub.status.busy": "2025-07-24T17:18:21.787576Z",
     "iopub.status.idle": "2025-07-24T17:18:21.792888Z",
     "shell.execute_reply": "2025-07-24T17:18:21.792064Z"
    },
    "papermill": {
     "duration": 0.01325,
     "end_time": "2025-07-24T17:18:21.794365",
     "exception": false,
     "start_time": "2025-07-24T17:18:21.781115",
     "status": "completed"
    },
    "tags": []
   },
   "outputs": [
    {
     "name": "stdout",
     "output_type": "stream",
     "text": [
      "The coefficient of slope is [0.55795197] & y-intercept is [-0.89611192]\n"
     ]
    }
   ],
   "source": [
    "self_lr.get_param()"
   ]
  },
  {
   "cell_type": "code",
   "execution_count": null,
   "id": "355e996e",
   "metadata": {
    "papermill": {
     "duration": 0.005269,
     "end_time": "2025-07-24T17:18:21.805344",
     "exception": false,
     "start_time": "2025-07-24T17:18:21.800075",
     "status": "completed"
    },
    "tags": []
   },
   "outputs": [],
   "source": []
  }
 ],
 "metadata": {
  "kaggle": {
   "accelerator": "none",
   "dataSources": [
    {
     "datasetId": 2517888,
     "sourceId": 4273460,
     "sourceType": "datasetVersion"
    }
   ],
   "dockerImageVersionId": 31089,
   "isGpuEnabled": false,
   "isInternetEnabled": true,
   "language": "python",
   "sourceType": "notebook"
  },
  "kernelspec": {
   "display_name": "Python 3",
   "language": "python",
   "name": "python3"
  },
  "language_info": {
   "codemirror_mode": {
    "name": "ipython",
    "version": 3
   },
   "file_extension": ".py",
   "mimetype": "text/x-python",
   "name": "python",
   "nbconvert_exporter": "python",
   "pygments_lexer": "ipython3",
   "version": "3.11.13"
  },
  "papermill": {
   "default_parameters": {},
   "duration": 10.936553,
   "end_time": "2025-07-24T17:18:22.531421",
   "environment_variables": {},
   "exception": null,
   "input_path": "__notebook__.ipynb",
   "output_path": "__notebook__.ipynb",
   "parameters": {},
   "start_time": "2025-07-24T17:18:11.594868",
   "version": "2.6.0"
  }
 },
 "nbformat": 4,
 "nbformat_minor": 5
}
